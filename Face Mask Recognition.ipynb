{
 "cells": [
  {
   "cell_type": "code",
   "execution_count": 2,
   "metadata": {},
   "outputs": [],
   "source": [
    "import numpy as np\n",
    "import tensorflow as tf\n",
    "import os\n",
    "from sklearn.model_selection import train_test_split\n",
    "import pickle\n",
    "import cv2\n",
    "import matplotlib.pyplot as plt\n",
    "import tensorflow as tf\n",
    "to_categorical = tf.keras.utils.to_categorical"
   ]
  },
  {
   "cell_type": "code",
   "execution_count": 3,
   "metadata": {},
   "outputs": [],
   "source": [
    "path = os.path.join(\"Data/face_mask_recognition/experiements/data\")\n",
    "category = [\"with_mask\", \"without_mask\"]"
   ]
  },
  {
   "cell_type": "code",
   "execution_count": 4,
   "metadata": {},
   "outputs": [],
   "source": [
    "training_data = []\n",
    "\n",
    "for i in os.listdir(path):\n",
    "    label = category.index(i)\n",
    "    new_path = os.path.join(path, i)\n",
    "    for j in os.listdir(new_path):\n",
    "        img_to_array = cv2.imread(os.path.join(new_path, j), cv2.IMREAD_GRAYSCALE)\n",
    "        new_array = cv2.resize(img_to_array, (100, 100))\n",
    "        training_data.append([new_array, label])\n"
   ]
  },
  {
   "cell_type": "code",
   "execution_count": 5,
   "metadata": {},
   "outputs": [
    {
     "name": "stdout",
     "output_type": "stream",
     "text": [
      "1376\n"
     ]
    }
   ],
   "source": [
    "print(len(training_data))"
   ]
  },
  {
   "cell_type": "code",
   "execution_count": 6,
   "metadata": {},
   "outputs": [],
   "source": [
    "X = []\n",
    "y = []\n",
    "\n",
    "for features, labels in training_data:\n",
    "    X.append(features)\n",
    "    y.append(labels)\n",
    "    \n",
    "y = to_categorical(y)"
   ]
  },
  {
   "cell_type": "code",
   "execution_count": 9,
   "metadata": {},
   "outputs": [
    {
     "name": "stdout",
     "output_type": "stream",
     "text": [
      "[0. 1.]\n"
     ]
    }
   ],
   "source": [
    "print(y[1])"
   ]
  },
  {
   "cell_type": "code",
   "execution_count": 1,
   "metadata": {},
   "outputs": [
    {
     "ename": "NameError",
     "evalue": "name 'y' is not defined",
     "output_type": "error",
     "traceback": [
      "\u001b[1;31m---------------------------------------------------------------------------\u001b[0m",
      "\u001b[1;31mNameError\u001b[0m                                 Traceback (most recent call last)",
      "\u001b[1;32m<ipython-input-1-a2d3d6726c7a>\u001b[0m in \u001b[0;36m<module>\u001b[1;34m\u001b[0m\n\u001b[1;32m----> 1\u001b[1;33m \u001b[0mprint\u001b[0m\u001b[1;33m(\u001b[0m\u001b[0my\u001b[0m\u001b[1;33m.\u001b[0m\u001b[0mshape\u001b[0m\u001b[1;33m)\u001b[0m\u001b[1;33m\u001b[0m\u001b[1;33m\u001b[0m\u001b[0m\n\u001b[0m",
      "\u001b[1;31mNameError\u001b[0m: name 'y' is not defined"
     ]
    }
   ],
   "source": [
    "print(y.shape)"
   ]
  },
  {
   "cell_type": "code",
   "execution_count": 10,
   "metadata": {},
   "outputs": [],
   "source": [
    "# split data\n",
    "X_train, X_test, y_train, y_test = train_test_split(X, y, test_size= 0.2, random_state=10)"
   ]
  },
  {
   "cell_type": "code",
   "execution_count": 11,
   "metadata": {},
   "outputs": [],
   "source": [
    "# ingat reshape dulu baru normalisasi\n",
    "X_train = np.array(X_train).reshape(-1,100,100,1)\n",
    "X_train = X_train/255.0"
   ]
  },
  {
   "cell_type": "code",
   "execution_count": 13,
   "metadata": {},
   "outputs": [
    {
     "name": "stdout",
     "output_type": "stream",
     "text": [
      "[0. 1.]\n"
     ]
    }
   ],
   "source": [
    "print(y_train[1])"
   ]
  },
  {
   "cell_type": "code",
   "execution_count": 16,
   "metadata": {},
   "outputs": [],
   "source": [
    "model=tf.keras.models.Sequential()\n",
    "\n",
    "model.add(tf.keras.layers.Conv2D(200,(3,3),input_shape=(100,100,1), activation=\"relu\"))\n",
    "model.add(tf.keras.layers.MaxPooling2D(pool_size=(2,2)))\n",
    "\n",
    "model.add(tf.keras.layers.Conv2D(100,(3,3), activation=\"relu\"))\n",
    "model.add(tf.keras.layers.MaxPooling2D(pool_size=(2,2)))\n",
    "\n",
    "model.add(tf.keras.layers.Flatten())\n",
    "model.add(tf.keras.layers.Dropout(0.5))\n",
    "\n",
    "model.add(tf.keras.layers.Dense(50,activation='relu'))\n",
    "model.add(tf.keras.layers.Dense(2,activation='softmax'))\n",
    "\n",
    "model.compile(loss='categorical_crossentropy',optimizer='adam',metrics=['accuracy'])"
   ]
  },
  {
   "cell_type": "code",
   "execution_count": null,
   "metadata": {},
   "outputs": [],
   "source": []
  },
  {
   "cell_type": "code",
   "execution_count": 17,
   "metadata": {},
   "outputs": [
    {
     "name": "stdout",
     "output_type": "stream",
     "text": [
      "Model: \"sequential_3\"\n",
      "_________________________________________________________________\n",
      "Layer (type)                 Output Shape              Param #   \n",
      "=================================================================\n",
      "conv2d_4 (Conv2D)            (None, 98, 98, 200)       2000      \n",
      "_________________________________________________________________\n",
      "max_pooling2d_4 (MaxPooling2 (None, 49, 49, 200)       0         \n",
      "_________________________________________________________________\n",
      "conv2d_5 (Conv2D)            (None, 47, 47, 100)       180100    \n",
      "_________________________________________________________________\n",
      "max_pooling2d_5 (MaxPooling2 (None, 23, 23, 100)       0         \n",
      "_________________________________________________________________\n",
      "flatten_2 (Flatten)          (None, 52900)             0         \n",
      "_________________________________________________________________\n",
      "dropout_2 (Dropout)          (None, 52900)             0         \n",
      "_________________________________________________________________\n",
      "dense_4 (Dense)              (None, 50)                2645050   \n",
      "_________________________________________________________________\n",
      "dense_5 (Dense)              (None, 2)                 102       \n",
      "=================================================================\n",
      "Total params: 2,827,252\n",
      "Trainable params: 2,827,252\n",
      "Non-trainable params: 0\n",
      "_________________________________________________________________\n"
     ]
    }
   ],
   "source": [
    "model.summary()"
   ]
  },
  {
   "cell_type": "code",
   "execution_count": 18,
   "metadata": {},
   "outputs": [],
   "source": [
    "from tensorflow.keras.callbacks import TensorBoard\n",
    "\n",
    "NAME = \"Face_mask_recognition\"\n",
    "tboard_log_dir = os.path.join(\"tensorboard\",NAME)\n",
    "tensorboard = TensorBoard(log_dir = tboard_log_dir)\n",
    "\n",
    "class myCallback(tf.keras.callbacks.Callback):\n",
    "    def on_epoch_end(self, epoch, logs={}):\n",
    "        if(logs.get(\"acc\") > 0.99):\n",
    "            print(\" Reached 99% Accuracy\")\n",
    "            self.model.stop_training = True\n",
    "            \n",
    "callbacks = myCallback()"
   ]
  },
  {
   "cell_type": "code",
   "execution_count": 19,
   "metadata": {},
   "outputs": [
    {
     "name": "stdout",
     "output_type": "stream",
     "text": [
      "Train on 880 samples, validate on 220 samples\n",
      "Epoch 1/30\n",
      "880/880 [==============================] - 91s 103ms/sample - loss: 0.7366 - acc: 0.5284 - val_loss: 0.6925 - val_acc: 0.4727\n",
      "Epoch 2/30\n",
      "880/880 [==============================] - 67s 76ms/sample - loss: 0.6729 - acc: 0.5477 - val_loss: 0.6252 - val_acc: 0.7455\n",
      "Epoch 3/30\n",
      "880/880 [==============================] - 68s 77ms/sample - loss: 0.6435 - acc: 0.6250 - val_loss: 0.6448 - val_acc: 0.5182\n",
      "Epoch 4/30\n",
      "880/880 [==============================] - 64s 73ms/sample - loss: 0.5568 - acc: 0.6977 - val_loss: 0.5431 - val_acc: 0.6864\n",
      "Epoch 5/30\n",
      "880/880 [==============================] - 67s 76ms/sample - loss: 0.4194 - acc: 0.8102 - val_loss: 0.4383 - val_acc: 0.7636\n",
      "Epoch 6/30\n",
      "880/880 [==============================] - 65s 74ms/sample - loss: 0.3650 - acc: 0.8295 - val_loss: 0.3309 - val_acc: 0.8955\n",
      "Epoch 7/30\n",
      "880/880 [==============================] - 63s 72ms/sample - loss: 0.2843 - acc: 0.8807 - val_loss: 0.2916 - val_acc: 0.8818\n",
      "Epoch 8/30\n",
      "880/880 [==============================] - 59s 67ms/sample - loss: 0.2160 - acc: 0.9227 - val_loss: 0.2480 - val_acc: 0.9045\n",
      "Epoch 9/30\n",
      "880/880 [==============================] - 63s 72ms/sample - loss: 0.1705 - acc: 0.9352 - val_loss: 0.2054 - val_acc: 0.8955\n",
      "Epoch 10/30\n",
      "880/880 [==============================] - 58s 66ms/sample - loss: 0.1369 - acc: 0.9500 - val_loss: 0.2091 - val_acc: 0.9136\n",
      "Epoch 11/30\n",
      "880/880 [==============================] - 64s 73ms/sample - loss: 0.1062 - acc: 0.9625 - val_loss: 0.1597 - val_acc: 0.9182\n",
      "Epoch 12/30\n",
      "880/880 [==============================] - 69s 78ms/sample - loss: 0.0942 - acc: 0.9648 - val_loss: 0.1421 - val_acc: 0.9227\n",
      "Epoch 13/30\n",
      "880/880 [==============================] - 71s 80ms/sample - loss: 0.0790 - acc: 0.9727 - val_loss: 0.1597 - val_acc: 0.9318\n",
      "Epoch 14/30\n",
      "880/880 [==============================] - 66s 75ms/sample - loss: 0.0592 - acc: 0.9852 - val_loss: 0.1332 - val_acc: 0.9409\n",
      "Epoch 15/30\n",
      "880/880 [==============================] - 63s 72ms/sample - loss: 0.0456 - acc: 0.9898 - val_loss: 0.1140 - val_acc: 0.9409\n",
      "Epoch 16/30\n",
      "880/880 [==============================] - 63s 72ms/sample - loss: 0.0478 - acc: 0.9841 - val_loss: 0.1222 - val_acc: 0.9455\n",
      "Epoch 17/30\n",
      "880/880 [==============================] - 63s 72ms/sample - loss: 0.0622 - acc: 0.9784 - val_loss: 0.2391 - val_acc: 0.9227\n",
      "Epoch 18/30\n",
      "880/880 [==============================] - 56s 64ms/sample - loss: 0.0375 - acc: 0.9898 - val_loss: 0.1062 - val_acc: 0.9409\n",
      "Epoch 19/30\n",
      "768/880 [=========================>....] - ETA: 6s - loss: 0.0303 - acc: 0.9922  Reached 99% Accuracy\n",
      "880/880 [==============================] - 55s 63ms/sample - loss: 0.0286 - acc: 0.9932 - val_loss: 0.1051 - val_acc: 0.9500\n"
     ]
    },
    {
     "data": {
      "text/plain": [
       "<tensorflow.python.keras.callbacks.History at 0x1fe065054c8>"
      ]
     },
     "execution_count": 19,
     "metadata": {},
     "output_type": "execute_result"
    }
   ],
   "source": [
    "model.fit(X_train, y_train, batch_size=128, validation_split=0.2, epochs=30, callbacks=[callbacks])"
   ]
  },
  {
   "cell_type": "code",
   "execution_count": 20,
   "metadata": {},
   "outputs": [],
   "source": [
    "model.save(\"face_mask_trained.h5\")"
   ]
  },
  {
   "cell_type": "code",
   "execution_count": 21,
   "metadata": {},
   "outputs": [
    {
     "name": "stdout",
     "output_type": "stream",
     "text": [
      "WARNING:tensorflow:From C:\\Anaconda\\lib\\site-packages\\tensorflow_core\\python\\ops\\init_ops.py:97: calling GlorotUniform.__init__ (from tensorflow.python.ops.init_ops) with dtype is deprecated and will be removed in a future version.\n",
      "Instructions for updating:\n",
      "Call initializer instance with the dtype argument instead of passing it to the constructor\n",
      "WARNING:tensorflow:From C:\\Anaconda\\lib\\site-packages\\tensorflow_core\\python\\ops\\init_ops.py:97: calling Zeros.__init__ (from tensorflow.python.ops.init_ops) with dtype is deprecated and will be removed in a future version.\n",
      "Instructions for updating:\n",
      "Call initializer instance with the dtype argument instead of passing it to the constructor\n",
      "Model: \"sequential_3\"\n",
      "_________________________________________________________________\n",
      "Layer (type)                 Output Shape              Param #   \n",
      "=================================================================\n",
      "conv2d_4 (Conv2D)            (None, 98, 98, 200)       2000      \n",
      "_________________________________________________________________\n",
      "max_pooling2d_4 (MaxPooling2 (None, 49, 49, 200)       0         \n",
      "_________________________________________________________________\n",
      "conv2d_5 (Conv2D)            (None, 47, 47, 100)       180100    \n",
      "_________________________________________________________________\n",
      "max_pooling2d_5 (MaxPooling2 (None, 23, 23, 100)       0         \n",
      "_________________________________________________________________\n",
      "flatten_2 (Flatten)          (None, 52900)             0         \n",
      "_________________________________________________________________\n",
      "dropout_2 (Dropout)          (None, 52900)             0         \n",
      "_________________________________________________________________\n",
      "dense_4 (Dense)              (None, 50)                2645050   \n",
      "_________________________________________________________________\n",
      "dense_5 (Dense)              (None, 2)                 102       \n",
      "=================================================================\n",
      "Total params: 2,827,252\n",
      "Trainable params: 2,827,252\n",
      "Non-trainable params: 0\n",
      "_________________________________________________________________\n"
     ]
    }
   ],
   "source": [
    "new_model = tf.keras.models.load_model(\"face_mask_trained.h5\")\n",
    "new_model.summary()"
   ]
  },
  {
   "cell_type": "code",
   "execution_count": 28,
   "metadata": {},
   "outputs": [
    {
     "name": "stdout",
     "output_type": "stream",
     "text": [
      "276/276 [==============================] - 4s 15ms/sample - loss: 0.2312 - acc: 0.9239\n"
     ]
    }
   ],
   "source": [
    "X_test = np.array(X_test).reshape(-1,100,100,1)\n",
    "X_test = X_test/255.0\n",
    "\n",
    "haha = model.evaluate(X_test, y_test)"
   ]
  },
  {
   "cell_type": "code",
   "execution_count": null,
   "metadata": {},
   "outputs": [],
   "source": []
  },
  {
   "cell_type": "code",
   "execution_count": null,
   "metadata": {},
   "outputs": [],
   "source": []
  }
 ],
 "metadata": {
  "kernelspec": {
   "display_name": "Python 3",
   "language": "python",
   "name": "python3"
  },
  "language_info": {
   "codemirror_mode": {
    "name": "ipython",
    "version": 3
   },
   "file_extension": ".py",
   "mimetype": "text/x-python",
   "name": "python",
   "nbconvert_exporter": "python",
   "pygments_lexer": "ipython3",
   "version": "3.7.4"
  }
 },
 "nbformat": 4,
 "nbformat_minor": 2
}
