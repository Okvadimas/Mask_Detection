{
 "cells": [
  {
   "cell_type": "code",
   "execution_count": null,
   "metadata": {},
   "outputs": [],
   "source": [
    "import numpy as np\n",
    "import cv2\n",
    "import os\n",
    "import tensorflow as tf"
   ]
  },
  {
   "cell_type": "code",
   "execution_count": null,
   "metadata": {},
   "outputs": [],
   "source": [
    "new_model = tf.keras.models.load_model(\"face_mask_trained.h5\")"
   ]
  },
  {
   "cell_type": "code",
   "execution_count": null,
   "metadata": {},
   "outputs": [],
   "source": [
    "face_cascade = cv2.CascadeClassifier(\"Data/OpenCV-Python-Series-master/src/cascades/data/haarcascade_frontalface_default.xml\")\n",
    "color_dict={0:(0,255,0),1:(0,0,255)}\n",
    "cap = cv2.VideoCapture(0)\n",
    "\n",
    "labels = {0:\"Mask\", 1:\"No-Mask\"}\n",
    "    \n",
    "while True:\n",
    "    bool, frame = cap.read()\n",
    "    gray = cv2.cvtColor(frame, cv2.COLOR_BGR2GRAY)\n",
    "    faces = face_cascade.detectMultiScale(gray, 1.3, 5)\n",
    "    \n",
    "    for x,y,w,h in faces:\n",
    "        face_img = gray[y:y+w, x:x+w]\n",
    "        resized = cv2.resize(face_img, (100,100))\n",
    "        normalized = resized/255.0\n",
    "        reshaped = np.reshape(normalized, (1, 100, 100, 1))\n",
    "#         result = new_model.predict_classes(reshaped)[0]\n",
    "        result1 = new_model.predict(reshaped)\n",
    "        label=np.argmax(result1,axis=1)[0]\n",
    "        print(result1)\n",
    "        \n",
    "#         cv2.rectangle(frame,(x,y),(x+w,y+h),(255, 255, 255),2)\n",
    "#         cv2.rectangle(frame,(x,y-40),(x+w,y),(255, 255, 255),-1)\n",
    "        cv2.rectangle(frame,(x,y),(x+w,y+h),color_dict[label],2)\n",
    "        cv2.rectangle(frame,(x,y-40),(x+w,y),color_dict[label],-1)\n",
    "        cv2.putText(frame, labels[label], (x, y-10),cv2.FONT_HERSHEY_SIMPLEX,0.8,(0,255,255),2)\n",
    "        \n",
    "    cv2.imshow(\"LIVE\", frame)\n",
    "#     if cv2.waitKey(5) & 0xFF == ord(\"q\"):\n",
    "#         break\n",
    "    key = cv2.waitKey(1)\n",
    "    \n",
    "    if (key == 27):\n",
    "        break\n",
    "\n",
    "cap.release()\n",
    "cv2.destroyAllWindows()"
   ]
  },
  {
   "cell_type": "code",
   "execution_count": null,
   "metadata": {},
   "outputs": [],
   "source": [
    "# untuk deteksi yg pake masker harus pencahayaan cukup\n",
    "# coba senterin muka kamu pake senter utk test masker nya"
   ]
  },
  {
   "cell_type": "code",
   "execution_count": null,
   "metadata": {},
   "outputs": [],
   "source": []
  }
 ],
 "metadata": {
  "kernelspec": {
   "display_name": "Python 3",
   "language": "python",
   "name": "python3"
  },
  "language_info": {
   "codemirror_mode": {
    "name": "ipython",
    "version": 3
   },
   "file_extension": ".py",
   "mimetype": "text/x-python",
   "name": "python",
   "nbconvert_exporter": "python",
   "pygments_lexer": "ipython3",
   "version": "3.7.4"
  }
 },
 "nbformat": 4,
 "nbformat_minor": 2
}
